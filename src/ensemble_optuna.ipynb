{
 "cells": [
  {
   "cell_type": "markdown",
   "metadata": {},
   "source": [
    "Running Optuna to find best weights to do ensemble"
   ]
  },
  {
   "cell_type": "code",
   "execution_count": 1,
   "metadata": {},
   "outputs": [
    {
     "name": "stderr",
     "output_type": "stream",
     "text": [
      "C:\\Users\\65877\\AppData\\Local\\Packages\\PythonSoftwareFoundation.Python.3.8_qbz5n2kfra8p0\\LocalCache\\local-packages\\Python38\\site-packages\\tqdm\\auto.py:22: TqdmWarning: IProgress not found. Please update jupyter and ipywidgets. See https://ipywidgets.readthedocs.io/en/stable/user_install.html\n",
      "  from .autonotebook import tqdm as notebook_tqdm\n"
     ]
    }
   ],
   "source": [
    "import argparse\n",
    "import datetime\n",
    "import json\n",
    "import numpy as np\n",
    "import re\n",
    "import string\n",
    "import collections\n",
    "import optuna"
   ]
  },
  {
   "cell_type": "code",
   "execution_count": 2,
   "metadata": {},
   "outputs": [],
   "source": [
    "f = open('../../ensemble/roberta_val.json')\n",
    "roberta_pred = json.load(f)"
   ]
  },
  {
   "cell_type": "code",
   "execution_count": 3,
   "metadata": {},
   "outputs": [],
   "source": [
    "f2 = open('../../ensemble/xlnet_val.json')\n",
    "xlnet_pred = json.load(f2)"
   ]
  },
  {
   "cell_type": "code",
   "execution_count": 4,
   "metadata": {},
   "outputs": [],
   "source": [
    "def normalize_answer(s):\n",
    "  \"\"\"Lower text and remove punctuation, articles and extra whitespace.\"\"\"\n",
    "  def remove_articles(text):\n",
    "    regex = re.compile(r'\\b(a|an|the)\\b', re.UNICODE)\n",
    "    return re.sub(regex, ' ', text)\n",
    "  def white_space_fix(text):\n",
    "    return ' '.join(text.split())\n",
    "  def remove_punc(text):\n",
    "    exclude = set(string.punctuation)\n",
    "    return ''.join(ch for ch in text if ch not in exclude)\n",
    "  def lower(text):\n",
    "    return text.lower()\n",
    "  return white_space_fix(remove_articles(remove_punc(lower(s))))"
   ]
  },
  {
   "cell_type": "code",
   "execution_count": 5,
   "metadata": {},
   "outputs": [],
   "source": [
    "def get_tokens(s):\n",
    "  if not s: return []\n",
    "  return normalize_answer(s).split()"
   ]
  },
  {
   "cell_type": "code",
   "execution_count": 6,
   "metadata": {},
   "outputs": [],
   "source": [
    "def compute_f1(a_gold, a_pred):\n",
    "  gold_toks = get_tokens(a_gold)\n",
    "  pred_toks = get_tokens(a_pred)\n",
    "  common = collections.Counter(gold_toks) & collections.Counter(pred_toks)\n",
    "  num_same = sum(common.values())\n",
    "  if len(gold_toks) == 0 or len(pred_toks) == 0:\n",
    "    # If either is no-answer, then F1 is 1 if they agree, 0 otherwise\n",
    "    return int(gold_toks == pred_toks)\n",
    "  if num_same == 0:\n",
    "    return 0\n",
    "  precision = 1.0 * num_same / len(pred_toks)\n",
    "  recall = 1.0 * num_same / len(gold_toks)\n",
    "  f1 = (2 * precision * recall) / (precision + recall)\n",
    "  return f1"
   ]
  },
  {
   "cell_type": "code",
   "execution_count": 7,
   "metadata": {},
   "outputs": [],
   "source": [
    "def weighting_score(xlnet, roberta, w1, w2):\n",
    "    wdict  = {}\n",
    "    for qns_id in xlnet.keys():\n",
    "        xlnet_ans_start = xlnet.get(qns_id).get('start')\n",
    "        roberta_ans_start = roberta.get(qns_id).get('start')\n",
    "        ans = roberta.get(qns_id).get('answers')\n",
    "        ctxt = roberta.get(qns_id).get('context')\n",
    "\n",
    "        weighted_ans_start = {}\n",
    "\n",
    "        for key, val in roberta_ans_start.items(): # start w xlnet as it has less candidates\n",
    "            #roberta_score = roberta_ans_start.get(key)\n",
    "            xlnet_score = xlnet_ans_start.get(key)\n",
    "            if xlnet_score == None:\n",
    "                weighted_ans_start[key] = w2*float(val)\n",
    "            else:\n",
    "                 weighted_ans_start[key] = w1*float(xlnet_score) + w2*float(val)\n",
    "\n",
    "        xlnet_ans_end = xlnet.get(qns_id).get('end')\n",
    "        roberta_ans_end = roberta.get(qns_id).get('end')\n",
    "        \n",
    "        weighted_ans_end = {}\n",
    "\n",
    "        for key, val in roberta_ans_end.items(): # start w xlnet as it has less candidates\n",
    "            #roberta_score = roberta_ans_end.get(key)\n",
    "            xlnet_score = xlnet_ans_end.get(key)\n",
    "            if xlnet_score == None:\n",
    "                weighted_ans_end[key] = w2*float(val)\n",
    "            else:\n",
    "                weighted_ans_end[key] = w1*float(xlnet_score) + w2*float(val)\n",
    "        wdict[qns_id] = {\"start\": weighted_ans_start, \"end\": weighted_ans_end, \"context\": ctxt, \"answer\": ans}\n",
    "    return wdict"
   ]
  },
  {
   "cell_type": "code",
   "execution_count": 8,
   "metadata": {},
   "outputs": [],
   "source": [
    "def post_processing(score_dict, max_answer_length=100):\n",
    "    pred = {}\n",
    "    for qns in score_dict.keys():\n",
    "        ans = score_dict.get(qns).get('answer')\n",
    "        ctxt = score_dict.get(qns).get('context')\n",
    "        #print(ctxt)\n",
    "        valid_answer = {}\n",
    "        start_indexes = score_dict.get(qns)[\"start\"]\n",
    "        end_indexes = score_dict.get(qns)[\"end\"]\n",
    "        for start, s_score in start_indexes.items():\n",
    "            for end, e_score in end_indexes.items():\n",
    "                start = int(start)\n",
    "                end = int(end)\n",
    "                if end < start or end - start + 1 > max_answer_length:\n",
    "                    continue\n",
    "                if start <= end:\n",
    "                    pred_answer = ctxt[start:end]\n",
    "                    pred_score = s_score + e_score\n",
    "                    if valid_answer.get(pred_answer) == None or float(valid_answer.get(pred_answer)) < pred_score:\n",
    "                        valid_answer.update(\n",
    "                                {pred_answer : pred_score}\n",
    "                            )\n",
    "\n",
    "        valid_answer = dict(sorted(valid_answer.items(), key=lambda x: x[1], reverse=True))\n",
    "        #print(valid_answer)\n",
    "        if len(valid_answer) == 0:\n",
    "            print(qns, ans, valid_answer)\n",
    "            pred[qns] = (\" \", ans)\n",
    "            \n",
    "        else:\n",
    "            pred[qns] = (next(iter(valid_answer)), ans)\n",
    "    return pred"
   ]
  },
  {
   "cell_type": "code",
   "execution_count": 9,
   "metadata": {},
   "outputs": [],
   "source": [
    "def evaluate(final):\n",
    "  score = []\n",
    "  for val in final.values():\n",
    "    pred_ans = val[0]\n",
    "    gold_ans = val[1]\n",
    "    score.append(compute_f1(gold_ans, pred_ans))\n",
    "  #print(score)\n",
    "  return sum(score)/len(score)"
   ]
  },
  {
   "cell_type": "code",
   "execution_count": 10,
   "metadata": {},
   "outputs": [],
   "source": [
    "def main(w1=0.5, w2=0.5):\n",
    "\n",
    "    final_score = weighting_score(xlnet_pred, roberta_pred, w1, w2)\n",
    "    test_output = post_processing(final_score, 150)\n",
    "    exact_score = evaluate(test_output)\n",
    "    \n",
    "    return exact_score"
   ]
  },
  {
   "cell_type": "code",
   "execution_count": 11,
   "metadata": {},
   "outputs": [],
   "source": [
    "def objective(trial):\n",
    "  STEP_SIZE = 0.01\n",
    "\n",
    "  weights = []\n",
    "  upper_limit = 1\n",
    "\n",
    "  w_roberta = trial.suggest_float(\"w_roberta\", 0, upper_limit, step=STEP_SIZE)\n",
    "  weights.append(w_roberta)\n",
    "\n",
    "  upper_limit -= sum(weights)\n",
    "  upper_limit = upper_limit\n",
    "\n",
    "  w_xlnet = 1-w_roberta\n",
    "  weights.append(w_xlnet)\n",
    "\n",
    "  weights_sum = sum(weights)\n",
    "  if weights_sum != 1:\n",
    "    raise Exception(f\"Weights sum must be equal to 1. Instead {weights_sum} was encountered!\")\n",
    "\n",
    "  #w2 = weights[0]\n",
    "  #w1 = weights[1]\n",
    "  metric = main(w_xlnet, w_roberta)\n",
    "  return metric"
   ]
  },
  {
   "cell_type": "code",
   "execution_count": 12,
   "metadata": {},
   "outputs": [
    {
     "name": "stderr",
     "output_type": "stream",
     "text": [
      "[I 2023-11-09 11:46:42,600] A new study created in memory with name: no-name-d719ea92-a23f-4b58-ace6-66844f2b57ab\n",
      "[I 2023-11-09 11:47:04,160] Trial 0 finished with value: 0.8216701894062297 and parameters: {'w_roberta': 0.43}. Best is trial 0 with value: 0.8216701894062297.\n",
      "[I 2023-11-09 11:47:24,585] Trial 1 finished with value: 0.8208687108774672 and parameters: {'w_roberta': 0.4}. Best is trial 0 with value: 0.8216701894062297.\n",
      "[I 2023-11-09 11:47:44,145] Trial 2 finished with value: 0.8230575976360485 and parameters: {'w_roberta': 0.46}. Best is trial 2 with value: 0.8230575976360485.\n",
      "[I 2023-11-09 11:48:03,809] Trial 3 finished with value: 0.7990967206930037 and parameters: {'w_roberta': 0.08}. Best is trial 2 with value: 0.8230575976360485.\n",
      "[I 2023-11-09 11:48:23,975] Trial 4 finished with value: 0.8252659204731777 and parameters: {'w_roberta': 0.6}. Best is trial 4 with value: 0.8252659204731777.\n",
      "[I 2023-11-09 11:48:43,399] Trial 5 finished with value: 0.8199335538069148 and parameters: {'w_roberta': 0.91}. Best is trial 4 with value: 0.8252659204731777.\n",
      "[I 2023-11-09 11:49:02,988] Trial 6 finished with value: 0.8187765986796939 and parameters: {'w_roberta': 0.35000000000000003}. Best is trial 4 with value: 0.8252659204731777.\n",
      "[I 2023-11-09 11:49:23,880] Trial 7 finished with value: 0.8199335538069148 and parameters: {'w_roberta': 0.91}. Best is trial 4 with value: 0.8252659204731777.\n",
      "[I 2023-11-09 11:49:42,750] Trial 8 finished with value: 0.8207036950338427 and parameters: {'w_roberta': 0.39}. Best is trial 4 with value: 0.8252659204731777.\n",
      "[I 2023-11-09 11:49:59,244] Trial 9 finished with value: 0.8186874997985657 and parameters: {'w_roberta': 0.9400000000000001}. Best is trial 4 with value: 0.8252659204731777.\n",
      "[I 2023-11-09 11:50:14,161] Trial 10 finished with value: 0.8240544823767325 and parameters: {'w_roberta': 0.72}. Best is trial 4 with value: 0.8252659204731777.\n",
      "[I 2023-11-09 11:50:31,463] Trial 11 finished with value: 0.8248616928664678 and parameters: {'w_roberta': 0.66}. Best is trial 4 with value: 0.8252659204731777.\n",
      "[I 2023-11-09 11:50:53,355] Trial 12 finished with value: 0.8251271164729278 and parameters: {'w_roberta': 0.67}. Best is trial 4 with value: 0.8252659204731777.\n",
      "[I 2023-11-09 11:51:14,572] Trial 13 finished with value: 0.8248616928664678 and parameters: {'w_roberta': 0.66}. Best is trial 4 with value: 0.8252659204731777.\n",
      "[I 2023-11-09 11:51:35,889] Trial 14 finished with value: 0.8079935135650256 and parameters: {'w_roberta': 0.2}. Best is trial 4 with value: 0.8252659204731777.\n",
      "[I 2023-11-09 11:51:54,967] Trial 15 finished with value: 0.8237071578662261 and parameters: {'w_roberta': 0.74}. Best is trial 4 with value: 0.8252659204731777.\n",
      "[I 2023-11-09 11:52:12,280] Trial 16 finished with value: 0.8252659204731777 and parameters: {'w_roberta': 0.6}. Best is trial 4 with value: 0.8252659204731777.\n",
      "[I 2023-11-09 11:52:31,662] Trial 17 finished with value: 0.8252439277822929 and parameters: {'w_roberta': 0.56}. Best is trial 4 with value: 0.8252659204731777.\n",
      "[I 2023-11-09 11:52:53,117] Trial 18 finished with value: 0.8250634974646518 and parameters: {'w_roberta': 0.55}. Best is trial 4 with value: 0.8252659204731777.\n",
      "[I 2023-11-09 11:53:13,416] Trial 19 finished with value: 0.8120639208939263 and parameters: {'w_roberta': 0.26}. Best is trial 4 with value: 0.8252659204731777.\n",
      "[I 2023-11-09 11:53:34,124] Trial 20 finished with value: 0.8214279844327061 and parameters: {'w_roberta': 0.8200000000000001}. Best is trial 4 with value: 0.8252659204731777.\n",
      "[I 2023-11-09 11:53:53,140] Trial 21 finished with value: 0.8252439277822929 and parameters: {'w_roberta': 0.56}. Best is trial 4 with value: 0.8252659204731777.\n",
      "[I 2023-11-09 11:54:10,886] Trial 22 finished with value: 0.8242672566362869 and parameters: {'w_roberta': 0.53}. Best is trial 4 with value: 0.8252659204731777.\n",
      "[I 2023-11-09 11:54:33,211] Trial 23 finished with value: 0.8225127988125647 and parameters: {'w_roberta': 0.79}. Best is trial 4 with value: 0.8252659204731777.\n",
      "[I 2023-11-09 11:54:48,793] Trial 24 finished with value: 0.825091046077473 and parameters: {'w_roberta': 0.58}. Best is trial 4 with value: 0.8252659204731777.\n",
      "[I 2023-11-09 11:55:08,825] Trial 25 finished with value: 0.8251033920868339 and parameters: {'w_roberta': 0.62}. Best is trial 4 with value: 0.8252659204731777.\n",
      "[I 2023-11-09 11:55:25,090] Trial 26 finished with value: 0.8242818506436792 and parameters: {'w_roberta': 0.51}. Best is trial 4 with value: 0.8252659204731777.\n",
      "[I 2023-11-09 11:55:44,200] Trial 27 finished with value: 0.8211788826062898 and parameters: {'w_roberta': 0.84}. Best is trial 4 with value: 0.8252659204731777.\n",
      "[I 2023-11-09 11:56:05,128] Trial 28 finished with value: 0.8162905779670743 and parameters: {'w_roberta': 0.32}. Best is trial 4 with value: 0.8252659204731777.\n",
      "[I 2023-11-09 11:56:25,596] Trial 29 finished with value: 0.8230374833062597 and parameters: {'w_roberta': 0.47000000000000003}. Best is trial 4 with value: 0.8252659204731777.\n",
      "[I 2023-11-09 11:56:44,983] Trial 30 finished with value: 0.8237071578662261 and parameters: {'w_roberta': 0.74}. Best is trial 4 with value: 0.8252659204731777.\n",
      "[I 2023-11-09 11:56:59,189] Trial 31 finished with value: 0.8254222768486484 and parameters: {'w_roberta': 0.59}. Best is trial 31 with value: 0.8254222768486484.\n",
      "[I 2023-11-09 11:57:16,723] Trial 32 finished with value: 0.8252659204731777 and parameters: {'w_roberta': 0.6}. Best is trial 31 with value: 0.8254222768486484.\n",
      "[I 2023-11-09 11:57:32,590] Trial 33 finished with value: 0.8214141438230673 and parameters: {'w_roberta': 0.42}. Best is trial 31 with value: 0.8254222768486484.\n",
      "[I 2023-11-09 11:57:47,676] Trial 34 finished with value: 0.8230374833062597 and parameters: {'w_roberta': 0.47000000000000003}. Best is trial 31 with value: 0.8254222768486484.\n",
      "[I 2023-11-09 11:58:00,074] Trial 35 finished with value: 0.8251033920868339 and parameters: {'w_roberta': 0.62}. Best is trial 31 with value: 0.8254222768486484.\n",
      "[I 2023-11-09 11:58:14,701] Trial 36 finished with value: 0.8254195312357002 and parameters: {'w_roberta': 0.61}. Best is trial 31 with value: 0.8254222768486484.\n",
      "[I 2023-11-09 11:58:31,190] Trial 37 finished with value: 0.7907598317300781 and parameters: {'w_roberta': 0.01}. Best is trial 31 with value: 0.8254222768486484.\n",
      "[I 2023-11-09 11:58:47,311] Trial 38 finished with value: 0.8245776573589119 and parameters: {'w_roberta': 0.6900000000000001}. Best is trial 31 with value: 0.8254222768486484.\n",
      "[I 2023-11-09 11:58:58,477] Trial 39 finished with value: 0.8170506571590249 and parameters: {'w_roberta': 1.0}. Best is trial 31 with value: 0.8254222768486484.\n",
      "[I 2023-11-09 11:59:12,805] Trial 40 finished with value: 0.8195846772873578 and parameters: {'w_roberta': 0.37}. Best is trial 31 with value: 0.8254222768486484.\n",
      "[I 2023-11-09 11:59:25,990] Trial 41 finished with value: 0.8251033920868339 and parameters: {'w_roberta': 0.62}. Best is trial 31 with value: 0.8254222768486484.\n",
      "[I 2023-11-09 11:59:39,612] Trial 42 finished with value: 0.8252659204731777 and parameters: {'w_roberta': 0.6}. Best is trial 31 with value: 0.8254222768486484.\n",
      "[I 2023-11-09 11:59:56,429] Trial 43 finished with value: 0.8236281286077795 and parameters: {'w_roberta': 0.49}. Best is trial 31 with value: 0.8254222768486484.\n",
      "[I 2023-11-09 12:00:07,894] Trial 44 finished with value: 0.8216701894062297 and parameters: {'w_roberta': 0.43}. Best is trial 31 with value: 0.8254222768486484.\n",
      "[I 2023-11-09 12:00:23,027] Trial 45 finished with value: 0.824650117041539 and parameters: {'w_roberta': 0.7000000000000001}. Best is trial 31 with value: 0.8254222768486484.\n",
      "[I 2023-11-09 12:00:33,761] Trial 46 finished with value: 0.8230225723876062 and parameters: {'w_roberta': 0.77}. Best is trial 31 with value: 0.8254222768486484.\n",
      "[I 2023-11-09 12:00:42,063] Trial 47 finished with value: 0.8249430523143921 and parameters: {'w_roberta': 0.64}. Best is trial 31 with value: 0.8254222768486484.\n",
      "[I 2023-11-09 12:00:49,162] Trial 48 finished with value: 0.8243050457780455 and parameters: {'w_roberta': 0.52}. Best is trial 31 with value: 0.8254222768486484.\n",
      "[I 2023-11-09 12:00:56,321] Trial 49 finished with value: 0.8251271164729278 and parameters: {'w_roberta': 0.67}. Best is trial 31 with value: 0.8254222768486484.\n"
     ]
    }
   ],
   "source": [
    "study = optuna.create_study(direction=\"maximize\")\n",
    "study.optimize(objective, n_trials=50)"
   ]
  },
  {
   "cell_type": "code",
   "execution_count": 13,
   "metadata": {},
   "outputs": [
    {
     "data": {
      "text/plain": [
       "{'w_roberta': 0.59}"
      ]
     },
     "execution_count": 13,
     "metadata": {},
     "output_type": "execute_result"
    }
   ],
   "source": [
    "study.best_params"
   ]
  },
  {
   "cell_type": "code",
   "execution_count": 14,
   "metadata": {},
   "outputs": [],
   "source": [
    "w_roberta = study.best_params[\"w_roberta\"]"
   ]
  },
  {
   "cell_type": "code",
   "execution_count": 15,
   "metadata": {},
   "outputs": [],
   "source": [
    "w_xlnet = 1-w_roberta"
   ]
  },
  {
   "cell_type": "code",
   "execution_count": 16,
   "metadata": {},
   "outputs": [
    {
     "name": "stdout",
     "output_type": "stream",
     "text": [
      "0.41000000000000003 0.59\n"
     ]
    }
   ],
   "source": [
    "print(w_xlnet, w_roberta)"
   ]
  }
 ],
 "metadata": {
  "kernelspec": {
   "display_name": "Python 3",
   "language": "python",
   "name": "python3"
  },
  "language_info": {
   "codemirror_mode": {
    "name": "ipython",
    "version": 3
   },
   "file_extension": ".py",
   "mimetype": "text/x-python",
   "name": "python",
   "nbconvert_exporter": "python",
   "pygments_lexer": "ipython3",
   "version": "3.8.10"
  }
 },
 "nbformat": 4,
 "nbformat_minor": 2
}
