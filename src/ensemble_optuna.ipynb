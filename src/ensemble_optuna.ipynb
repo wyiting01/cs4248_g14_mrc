{
 "cells": [
  {
   "cell_type": "markdown",
   "metadata": {},
   "source": [
    "Running Optuna to find best weights to do ensemble"
   ]
  },
  {
   "cell_type": "code",
   "execution_count": 1,
   "metadata": {},
   "outputs": [
    {
     "name": "stderr",
     "output_type": "stream",
     "text": [
      "C:\\Users\\65877\\AppData\\Local\\Packages\\PythonSoftwareFoundation.Python.3.8_qbz5n2kfra8p0\\LocalCache\\local-packages\\Python38\\site-packages\\tqdm\\auto.py:22: TqdmWarning: IProgress not found. Please update jupyter and ipywidgets. See https://ipywidgets.readthedocs.io/en/stable/user_install.html\n",
      "  from .autonotebook import tqdm as notebook_tqdm\n"
     ]
    }
   ],
   "source": [
    "import argparse\n",
    "import datetime\n",
    "import json\n",
    "import numpy as np\n",
    "import re\n",
    "import string\n",
    "import collections\n",
    "import optuna"
   ]
  },
  {
   "cell_type": "code",
   "execution_count": 2,
   "metadata": {},
   "outputs": [],
   "source": [
    "f = open('albert_val.json')\n",
    "albert_pred = json.load(f)"
   ]
  },
  {
   "cell_type": "code",
   "execution_count": 3,
   "metadata": {},
   "outputs": [],
   "source": [
    "f2 = open('xlnet_val.json')\n",
    "xlnet_pred = json.load(f2)"
   ]
  },
  {
   "cell_type": "code",
   "execution_count": 4,
   "metadata": {},
   "outputs": [],
   "source": [
    "def normalize_answer(s):\n",
    "  \"\"\"Lower text and remove punctuation, articles and extra whitespace.\"\"\"\n",
    "  def remove_articles(text):\n",
    "    regex = re.compile(r'\\b(a|an|the)\\b', re.UNICODE)\n",
    "    return re.sub(regex, ' ', text)\n",
    "  def white_space_fix(text):\n",
    "    return ' '.join(text.split())\n",
    "  def remove_punc(text):\n",
    "    exclude = set(string.punctuation)\n",
    "    return ''.join(ch for ch in text if ch not in exclude)\n",
    "  def lower(text):\n",
    "    return text.lower()\n",
    "  return white_space_fix(remove_articles(remove_punc(lower(s))))"
   ]
  },
  {
   "cell_type": "code",
   "execution_count": 5,
   "metadata": {},
   "outputs": [],
   "source": [
    "def get_tokens(s):\n",
    "  if not s: return []\n",
    "  return normalize_answer(s).split()"
   ]
  },
  {
   "cell_type": "code",
   "execution_count": 6,
   "metadata": {},
   "outputs": [],
   "source": [
    "def compute_f1(a_gold, a_pred):\n",
    "  gold_toks = get_tokens(a_gold)\n",
    "  pred_toks = get_tokens(a_pred)\n",
    "  common = collections.Counter(gold_toks) & collections.Counter(pred_toks)\n",
    "  num_same = sum(common.values())\n",
    "  if len(gold_toks) == 0 or len(pred_toks) == 0:\n",
    "    # If either is no-answer, then F1 is 1 if they agree, 0 otherwise\n",
    "    return int(gold_toks == pred_toks)\n",
    "  if num_same == 0:\n",
    "    return 0\n",
    "  precision = 1.0 * num_same / len(pred_toks)\n",
    "  recall = 1.0 * num_same / len(gold_toks)\n",
    "  f1 = (2 * precision * recall) / (precision + recall)\n",
    "  return f1"
   ]
  },
  {
   "cell_type": "code",
   "execution_count": 7,
   "metadata": {},
   "outputs": [],
   "source": [
    "def weighting_score(xlnet, albert, w1, w2):\n",
    "    wdict  = {}\n",
    "    for qns_id in xlnet.keys():\n",
    "        xlnet_ans_start = xlnet.get(qns_id).get('start')\n",
    "        albert_ans_start = albert.get(qns_id).get('start')\n",
    "        ans = albert.get(qns_id).get('answers')\n",
    "        ctxt = albert.get(qns_id).get('context')\n",
    "\n",
    "        weighted_ans_start = {}\n",
    "\n",
    "        for key, val in albert_ans_start.items(): # start w xlnet as it has less candidates\n",
    "            #albert_score = albert_ans_start.get(key)\n",
    "            xlnet_score = xlnet_ans_start.get(key)\n",
    "            if xlnet_score == None:\n",
    "                weighted_ans_start[key] = w2*float(val)\n",
    "            else:\n",
    "                 weighted_ans_start[key] = w1*float(xlnet_score) + w2*float(val)\n",
    "\n",
    "        xlnet_ans_end = xlnet.get(qns_id).get('end')\n",
    "        albert_ans_end = albert.get(qns_id).get('end')\n",
    "        \n",
    "        weighted_ans_end = {}\n",
    "\n",
    "        for key, val in albert_ans_end.items(): # start w xlnet as it has less candidates\n",
    "            #albert_score = albert_ans_end.get(key)\n",
    "            xlnet_score = xlnet_ans_end.get(key)\n",
    "            if xlnet_score == None:\n",
    "                weighted_ans_end[key] = w2*float(val)\n",
    "            else:\n",
    "                weighted_ans_end[key] = w1*float(xlnet_score) + w2*float(val)\n",
    "        wdict[qns_id] = {\"start\": weighted_ans_start, \"end\": weighted_ans_end, \"context\": ctxt, \"answer\": ans}\n",
    "    return wdict"
   ]
  },
  {
   "cell_type": "code",
   "execution_count": 8,
   "metadata": {},
   "outputs": [],
   "source": [
    "def post_processing(score_dict, max_answer_length=100):\n",
    "    pred = {}\n",
    "    for qns in score_dict.keys():\n",
    "        ans = score_dict.get(qns).get('answer')\n",
    "        ctxt = score_dict.get(qns).get('context')\n",
    "        #print(ctxt)\n",
    "        valid_answer = {}\n",
    "        start_indexes = score_dict.get(qns)[\"start\"]\n",
    "        end_indexes = score_dict.get(qns)[\"end\"]\n",
    "        for start, s_score in start_indexes.items():\n",
    "            for end, e_score in end_indexes.items():\n",
    "                start = int(start)\n",
    "                end = int(end)\n",
    "                if end < start or end - start + 1 > max_answer_length:\n",
    "                    continue\n",
    "                if start <= end:\n",
    "                    pred_answer = ctxt[start:end]\n",
    "                    pred_score = s_score + e_score\n",
    "                    if valid_answer.get(pred_answer) == None or float(valid_answer.get(pred_answer)) < pred_score:\n",
    "                        valid_answer.update(\n",
    "                                {pred_answer : pred_score}\n",
    "                            )\n",
    "\n",
    "        valid_answer = dict(sorted(valid_answer.items(), key=lambda x: x[1], reverse=True))\n",
    "        #print(valid_answer)\n",
    "        if len(valid_answer) == 0:\n",
    "            print(qns, ans, valid_answer)\n",
    "            pred[qns] = (\" \", ans)\n",
    "            \n",
    "        else:\n",
    "            pred[qns] = (next(iter(valid_answer)), ans)\n",
    "    return pred"
   ]
  },
  {
   "cell_type": "code",
   "execution_count": 9,
   "metadata": {},
   "outputs": [],
   "source": [
    "def evaluate(final):\n",
    "  score = []\n",
    "  for val in final.values():\n",
    "    pred_ans = val[0]\n",
    "    gold_ans = val[1]\n",
    "    score.append(compute_f1(gold_ans, pred_ans))\n",
    "  #print(score)\n",
    "  return sum(score)/len(score)"
   ]
  },
  {
   "cell_type": "code",
   "execution_count": 10,
   "metadata": {},
   "outputs": [],
   "source": [
    "def main(w1=0.5, w2=0.5):\n",
    "\n",
    "    final_score = weighting_score(xlnet_pred, albert_pred, w1, w2)\n",
    "    test_output = post_processing(final_score, 150)\n",
    "    exact_score = evaluate(test_output)\n",
    "    \n",
    "    return exact_score"
   ]
  },
  {
   "cell_type": "code",
   "execution_count": 11,
   "metadata": {},
   "outputs": [],
   "source": [
    "def objective(trial):\n",
    "  STEP_SIZE = 0.01\n",
    "\n",
    "  weights = []\n",
    "  upper_limit = 1\n",
    "\n",
    "  w_albert = trial.suggest_float(\"w_albert\", 0, upper_limit, step=STEP_SIZE)\n",
    "  weights.append(w_albert)\n",
    "\n",
    "  upper_limit -= sum(weights)\n",
    "  upper_limit = upper_limit\n",
    "\n",
    "  w_xlnet = 1-w_albert\n",
    "  weights.append(w_xlnet)\n",
    "\n",
    "  weights_sum = sum(weights)\n",
    "  if weights_sum != 1:\n",
    "    raise Exception(f\"Weights sum must be equal to 1. Instead {weights_sum} was encountered!\")\n",
    "\n",
    "  #w2 = weights[0]\n",
    "  #w1 = weights[1]\n",
    "  metric = main(w_xlnet, w_albert)\n",
    "  return metric"
   ]
  },
  {
   "cell_type": "code",
   "execution_count": 12,
   "metadata": {},
   "outputs": [
    {
     "name": "stderr",
     "output_type": "stream",
     "text": [
      "[I 2023-11-08 17:10:56,565] A new study created in memory with name: no-name-863e851e-1974-4ff0-b271-cd600fd3bb16\n",
      "[I 2023-11-08 17:11:02,739] Trial 0 finished with value: 0.8022700477350718 and parameters: {'w_albert': 0.25}. Best is trial 0 with value: 0.8022700477350718.\n",
      "[I 2023-11-08 17:11:10,119] Trial 1 finished with value: 0.796600065276358 and parameters: {'w_albert': 0.64}. Best is trial 0 with value: 0.8022700477350718.\n",
      "[I 2023-11-08 17:11:18,770] Trial 2 finished with value: 0.7864339646180006 and parameters: {'w_albert': 0.0}. Best is trial 0 with value: 0.8022700477350718.\n",
      "[I 2023-11-08 17:11:26,068] Trial 3 finished with value: 0.7857225587397979 and parameters: {'w_albert': 0.78}. Best is trial 0 with value: 0.8022700477350718.\n",
      "[I 2023-11-08 17:11:32,852] Trial 4 finished with value: 0.7802076995211862 and parameters: {'w_albert': 0.84}. Best is trial 0 with value: 0.8022700477350718.\n",
      "[I 2023-11-08 17:11:38,915] Trial 5 finished with value: 0.8050575047280035 and parameters: {'w_albert': 0.47000000000000003}. Best is trial 5 with value: 0.8050575047280035.\n",
      "[I 2023-11-08 17:11:44,724] Trial 6 finished with value: 0.79003033745989 and parameters: {'w_albert': 0.73}. Best is trial 5 with value: 0.8050575047280035.\n",
      "[I 2023-11-08 17:11:51,450] Trial 7 finished with value: 0.7886219583406594 and parameters: {'w_albert': 0.74}. Best is trial 5 with value: 0.8050575047280035.\n",
      "[I 2023-11-08 17:11:57,464] Trial 8 finished with value: 0.7965811085625621 and parameters: {'w_albert': 0.12}. Best is trial 5 with value: 0.8050575047280035.\n",
      "[I 2023-11-08 17:12:05,108] Trial 9 finished with value: 0.7759142704772711 and parameters: {'w_albert': 0.89}. Best is trial 5 with value: 0.8050575047280035.\n",
      "[I 2023-11-08 17:12:12,096] Trial 10 finished with value: 0.8052270084672133 and parameters: {'w_albert': 0.42}. Best is trial 10 with value: 0.8052270084672133.\n",
      "[I 2023-11-08 17:12:20,146] Trial 11 finished with value: 0.8052270084672133 and parameters: {'w_albert': 0.42}. Best is trial 10 with value: 0.8052270084672133.\n",
      "[I 2023-11-08 17:12:26,017] Trial 12 finished with value: 0.8053000861963026 and parameters: {'w_albert': 0.38}. Best is trial 12 with value: 0.8053000861963026.\n",
      "[I 2023-11-08 17:12:33,193] Trial 13 finished with value: 0.8047021249315066 and parameters: {'w_albert': 0.32}. Best is trial 12 with value: 0.8053000861963026.\n",
      "[I 2023-11-08 17:12:40,594] Trial 14 finished with value: 0.7980021570309203 and parameters: {'w_albert': 0.62}. Best is trial 12 with value: 0.8053000861963026.\n",
      "[I 2023-11-08 17:12:47,551] Trial 15 finished with value: 0.80420269643349 and parameters: {'w_albert': 0.31}. Best is trial 12 with value: 0.8053000861963026.\n",
      "[I 2023-11-08 17:12:56,592] Trial 16 finished with value: 0.8021739183543883 and parameters: {'w_albert': 0.55}. Best is trial 12 with value: 0.8053000861963026.\n",
      "[I 2023-11-08 17:13:04,881] Trial 17 finished with value: 0.8001498560310233 and parameters: {'w_albert': 0.19}. Best is trial 12 with value: 0.8053000861963026.\n",
      "[I 2023-11-08 17:13:12,499] Trial 18 finished with value: 0.8053265207193937 and parameters: {'w_albert': 0.4}. Best is trial 18 with value: 0.8053265207193937.\n",
      "[I 2023-11-08 17:13:18,536] Trial 19 finished with value: 0.7696572169911073 and parameters: {'w_albert': 0.98}. Best is trial 18 with value: 0.8053265207193937.\n",
      "[I 2023-11-08 17:13:26,145] Trial 20 finished with value: 0.7954757090296976 and parameters: {'w_albert': 0.1}. Best is trial 18 with value: 0.8053265207193937.\n",
      "[I 2023-11-08 17:13:32,736] Trial 21 finished with value: 0.8052270084672133 and parameters: {'w_albert': 0.42}. Best is trial 18 with value: 0.8053265207193937.\n",
      "[I 2023-11-08 17:13:39,437] Trial 22 finished with value: 0.8059560017214363 and parameters: {'w_albert': 0.35000000000000003}. Best is trial 22 with value: 0.8059560017214363.\n",
      "[I 2023-11-08 17:13:46,395] Trial 23 finished with value: 0.8037807339549795 and parameters: {'w_albert': 0.29}. Best is trial 22 with value: 0.8059560017214363.\n",
      "[I 2023-11-08 17:13:53,505] Trial 24 finished with value: 0.8029855988496349 and parameters: {'w_albert': 0.54}. Best is trial 22 with value: 0.8059560017214363.\n",
      "[I 2023-11-08 17:13:59,241] Trial 25 finished with value: 0.805549335624914 and parameters: {'w_albert': 0.37}. Best is trial 22 with value: 0.8059560017214363.\n",
      "[I 2023-11-08 17:14:05,692] Trial 26 finished with value: 0.8011242952716531 and parameters: {'w_albert': 0.21}. Best is trial 22 with value: 0.8059560017214363.\n",
      "[I 2023-11-08 17:14:12,554] Trial 27 finished with value: 0.8059560017214363 and parameters: {'w_albert': 0.35000000000000003}. Best is trial 22 with value: 0.8059560017214363.\n",
      "[I 2023-11-08 17:14:18,895] Trial 28 finished with value: 0.7991893636152874 and parameters: {'w_albert': 0.16}. Best is trial 22 with value: 0.8059560017214363.\n",
      "[I 2023-11-08 17:14:26,572] Trial 29 finished with value: 0.8046371538243997 and parameters: {'w_albert': 0.5}. Best is trial 22 with value: 0.8059560017214363.\n",
      "[I 2023-11-08 17:14:32,940] Trial 30 finished with value: 0.8029023459085888 and parameters: {'w_albert': 0.26}. Best is trial 22 with value: 0.8059560017214363.\n",
      "[I 2023-11-08 17:14:41,324] Trial 31 finished with value: 0.8059560017214363 and parameters: {'w_albert': 0.35000000000000003}. Best is trial 22 with value: 0.8059560017214363.\n",
      "[I 2023-11-08 17:14:51,970] Trial 32 finished with value: 0.8059560017214363 and parameters: {'w_albert': 0.35000000000000003}. Best is trial 22 with value: 0.8059560017214363.\n",
      "[I 2023-11-08 17:15:01,306] Trial 33 finished with value: 0.802143003131136 and parameters: {'w_albert': 0.24}. Best is trial 22 with value: 0.8059560017214363.\n",
      "[I 2023-11-08 17:15:07,337] Trial 34 finished with value: 0.8059560017214363 and parameters: {'w_albert': 0.35000000000000003}. Best is trial 22 with value: 0.8059560017214363.\n",
      "[I 2023-11-08 17:15:13,676] Trial 35 finished with value: 0.7889568306300806 and parameters: {'w_albert': 0.01}. Best is trial 22 with value: 0.8059560017214363.\n",
      "[I 2023-11-08 17:15:19,819] Trial 36 finished with value: 0.8050575047280035 and parameters: {'w_albert': 0.47000000000000003}. Best is trial 22 with value: 0.8059560017214363.\n",
      "[I 2023-11-08 17:15:27,080] Trial 37 finished with value: 0.7987541350714951 and parameters: {'w_albert': 0.6}. Best is trial 22 with value: 0.8059560017214363.\n",
      "[I 2023-11-08 17:15:35,200] Trial 38 finished with value: 0.8033540759412207 and parameters: {'w_albert': 0.27}. Best is trial 22 with value: 0.8059560017214363.\n",
      "[I 2023-11-08 17:15:41,682] Trial 39 finished with value: 0.8049798622422234 and parameters: {'w_albert': 0.33}. Best is trial 22 with value: 0.8059560017214363.\n",
      "[I 2023-11-08 17:15:48,461] Trial 40 finished with value: 0.7943563671076375 and parameters: {'w_albert': 0.67}. Best is trial 22 with value: 0.8059560017214363.\n",
      "[I 2023-11-08 17:15:55,127] Trial 41 finished with value: 0.8059560017214363 and parameters: {'w_albert': 0.35000000000000003}. Best is trial 22 with value: 0.8059560017214363.\n",
      "[I 2023-11-08 17:16:02,700] Trial 42 finished with value: 0.8052296820728637 and parameters: {'w_albert': 0.46}. Best is trial 22 with value: 0.8059560017214363.\n",
      "[I 2023-11-08 17:16:10,292] Trial 43 finished with value: 0.8016539362444258 and parameters: {'w_albert': 0.23}. Best is trial 22 with value: 0.8059560017214363.\n",
      "[I 2023-11-08 17:16:15,855] Trial 44 finished with value: 0.79854867649252 and parameters: {'w_albert': 0.15}. Best is trial 22 with value: 0.8059560017214363.\n",
      "[I 2023-11-08 17:16:21,589] Trial 45 finished with value: 0.8058617932767039 and parameters: {'w_albert': 0.36}. Best is trial 22 with value: 0.8059560017214363.\n",
      "[I 2023-11-08 17:16:28,620] Trial 46 finished with value: 0.8051083221191733 and parameters: {'w_albert': 0.44}. Best is trial 22 with value: 0.8059560017214363.\n",
      "[I 2023-11-08 17:16:35,489] Trial 47 finished with value: 0.8042649560594028 and parameters: {'w_albert': 0.52}. Best is trial 22 with value: 0.8059560017214363.\n",
      "[I 2023-11-08 17:16:41,608] Trial 48 finished with value: 0.8037807339549795 and parameters: {'w_albert': 0.29}. Best is trial 22 with value: 0.8059560017214363.\n",
      "[I 2023-11-08 17:16:47,526] Trial 49 finished with value: 0.8049798622422234 and parameters: {'w_albert': 0.33}. Best is trial 22 with value: 0.8059560017214363.\n"
     ]
    }
   ],
   "source": [
    "study = optuna.create_study(direction=\"maximize\")\n",
    "study.optimize(objective, n_trials=50)"
   ]
  },
  {
   "cell_type": "code",
   "execution_count": 14,
   "metadata": {},
   "outputs": [
    {
     "data": {
      "text/plain": [
       "{'w_albert': 0.35000000000000003}"
      ]
     },
     "execution_count": 14,
     "metadata": {},
     "output_type": "execute_result"
    }
   ],
   "source": [
    "study.best_params"
   ]
  },
  {
   "cell_type": "code",
   "execution_count": 15,
   "metadata": {},
   "outputs": [],
   "source": [
    "w_albert = study.best_params[\"w_albert\"]"
   ]
  },
  {
   "cell_type": "code",
   "execution_count": 16,
   "metadata": {},
   "outputs": [],
   "source": [
    "w_xlnet = 1-w_albert"
   ]
  },
  {
   "cell_type": "code",
   "execution_count": 17,
   "metadata": {},
   "outputs": [
    {
     "name": "stdout",
     "output_type": "stream",
     "text": [
      "0.6499999999999999 0.35000000000000003\n"
     ]
    }
   ],
   "source": [
    "print(w_xlnet, w_albert)"
   ]
  }
 ],
 "metadata": {
  "kernelspec": {
   "display_name": "Python 3",
   "language": "python",
   "name": "python3"
  },
  "language_info": {
   "codemirror_mode": {
    "name": "ipython",
    "version": 3
   },
   "file_extension": ".py",
   "mimetype": "text/x-python",
   "name": "python",
   "nbconvert_exporter": "python",
   "pygments_lexer": "ipython3",
   "version": "3.8.10"
  }
 },
 "nbformat": 4,
 "nbformat_minor": 2
}
